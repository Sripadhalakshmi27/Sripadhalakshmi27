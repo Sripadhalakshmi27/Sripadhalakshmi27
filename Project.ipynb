{
  "nbformat": 4,
  "nbformat_minor": 0,
  "metadata": {
    "colab": {
      "provenance": [],
      "authorship_tag": "ABX9TyOwNzVLzrLHJMNnCBx/+OPV",
      "include_colab_link": true
    },
    "kernelspec": {
      "name": "python3",
      "display_name": "Python 3"
    },
    "language_info": {
      "name": "python"
    }
  },
  "cells": [
    {
      "cell_type": "markdown",
      "metadata": {
        "id": "view-in-github",
        "colab_type": "text"
      },
      "source": [
        "<a href=\"https://colab.research.google.com/github/Sripadhalakshmi27/Sripadhalakshmi27/blob/main/Project.ipynb\" target=\"_parent\"><img src=\"https://colab.research.google.com/assets/colab-badge.svg\" alt=\"Open In Colab\"/></a>"
      ]
    },
    {
      "cell_type": "code",
      "source": [
        "\n",
        "import pandas as pd\n",
        "from sklearn.linear_model import LinearRegression\n",
        "\n",
        "# Load dataset\n",
        "df = pd.read_csv('/content/songs.csv')\n",
        "\n",
        "# Train a simple model (predicting duration based on year)\n",
        "X = df[['year']]\n",
        "y = df['duration']\n",
        "model = LinearRegression()\n",
        "model.fit(X, y)\n",
        "\n",
        "# Take user input for prediction\n",
        "user_song_name = input(\"Enter the song name: \")\n",
        "\n",
        "# Search for the song in the dataset\n",
        "song_row = df[df['title'].str.lower() == user_song_name.lower()]\n",
        "\n",
        "if not song_row.empty:\n",
        "    song_year = song_row.iloc[0]['year']\n",
        "    predicted_duration = model.predict([[song_year]])[0]\n",
        "\n",
        "    # Create output row in the dataset column format\n",
        "    output = pd.DataFrame([{\n",
        "        'id': song_row.iloc[0]['id'],\n",
        "        'title': song_row.iloc[0]['title'],\n",
        "        'album': song_row.iloc[0]['album'],\n",
        "        'year': song_year,\n",
        "        'image': song_row.iloc[0]['image'],\n",
        "        'artist': song_row.iloc[0]['artist'],\n",
        "        'url': song_row.iloc[0]['url'],\n",
        "        'duration': predicted_duration\n",
        "    }])\n",
        "\n",
        "    # Display output\n",
        "    print(\"Predicted Song Data:\")\n",
        "    print(output)\n"
      ],
      "metadata": {
        "colab": {
          "base_uri": "https://localhost:8080/"
        },
        "id": "GApoYkgjGmUL",
        "outputId": "421f1f57-5d64-4f66-e18b-978be772a999"
      },
      "execution_count": 6,
      "outputs": [
        {
          "output_type": "stream",
          "name": "stdout",
          "text": [
            "Enter the song name: Radhika\n",
            "Predicted Song Data:\n",
            "         id    title         album  year  \\\n",
            "0  PiXTKfRo  Radhika  Tillu Square  2023   \n",
            "\n",
            "                                               image        artist  \\\n",
            "0  https://c.saavncdn.com/000/Tillu-Square-Telugu...  Ram Miriyala   \n",
            "\n",
            "                                                 url    duration  \n",
            "0  https://www.jiosaavn.com/song/radhika/IAEzZT9WZVw  231.912171  \n"
          ]
        },
        {
          "output_type": "stream",
          "name": "stderr",
          "text": [
            "/usr/local/lib/python3.11/dist-packages/sklearn/utils/validation.py:2739: UserWarning: X does not have valid feature names, but LinearRegression was fitted with feature names\n",
            "  warnings.warn(\n"
          ]
        }
      ]
    }
  ]
}